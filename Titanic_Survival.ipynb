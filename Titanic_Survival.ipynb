{
  "nbformat": 4,
  "nbformat_minor": 0,
  "metadata": {
    "colab": {
      "provenance": []
    },
    "kernelspec": {
      "name": "python3",
      "display_name": "Python 3"
    },
    "language_info": {
      "name": "python"
    }
  },
  "cells": [
    {
      "cell_type": "code",
      "source": [
        "import pandas as pd\n",
        "import numpy as np\n",
        "from sklearn.impute import SimpleImputer\n",
        "from sklearn.preprocessing import LabelEncoder"
      ],
      "metadata": {
        "id": "9RHHBdDtcJd1"
      },
      "execution_count": null,
      "outputs": []
    },
    {
      "cell_type": "code",
      "source": [
        "data = pd.read_csv('/content/Titanic-Dataset.csv')"
      ],
      "metadata": {
        "id": "aC-cWY4BcWec"
      },
      "execution_count": null,
      "outputs": []
    },
    {
      "cell_type": "code",
      "source": [
        "imputer_age = SimpleImputer(strategy='mean')\n",
        "data['Age'] = imputer_age.fit_transform(data[['Age']])\n",
        "\n",
        "data = data.drop(columns=['Cabin'])\n",
        "\n",
        "data['Embarked'] = data['Embarked'].fillna(data['Embarked'].mode()[0])\n",
        "data['FamilySize'] = data['SibSp'] + data['Parch'] + 1"
      ],
      "metadata": {
        "id": "Ge77it2DcduW"
      },
      "execution_count": null,
      "outputs": []
    },
    {
      "cell_type": "code",
      "source": [
        "data['Title'] = data['Name'].apply(lambda name: name.split(',')[1].split('.')[0].strip())\n",
        "\n",
        "title_mapping = {\n",
        "    'Mr': 'Mr', 'Miss': 'Miss', 'Mrs': 'Mrs', 'Master': 'Master',\n",
        "    'Dr': 'Officer', 'Rev': 'Officer', 'Col': 'Officer', 'Major': 'Officer',\n",
        "    'Mlle': 'Miss', 'Mme': 'Mrs', 'Don': 'Royalty', 'Dona': 'Royalty', 'Lady': 'Royalty',\n",
        "    'Countess': 'Royalty', 'Sir': 'Royalty', 'Jonkheer': 'Royalty', 'Capt': 'Officer'\n",
        "}\n",
        "data['Title'] = data['Title'].map(title_mapping)"
      ],
      "metadata": {
        "id": "N9iDWs6WdW8R"
      },
      "execution_count": null,
      "outputs": []
    },
    {
      "cell_type": "code",
      "source": [
        "label_encoder = LabelEncoder()\n",
        "data['Sex'] = label_encoder.fit_transform(data['Sex'])\n",
        "data['Embarked'] = label_encoder.fit_transform(data['Embarked'])\n",
        "data['Title'] = label_encoder.fit_transform(data['Title'])\n",
        "\n",
        "data['Fare'] = np.where(data['Fare'] > 300, 300, data['Fare'])\n",
        "print(data.head())"
      ],
      "metadata": {
        "colab": {
          "base_uri": "https://localhost:8080/"
        },
        "id": "qt4eY6A8dYhD",
        "outputId": "9640a831-b67b-4ea4-bcc8-948d8ef446d1"
      },
      "execution_count": null,
      "outputs": [
        {
          "output_type": "stream",
          "name": "stdout",
          "text": [
            "   PassengerId  Survived  Pclass  \\\n",
            "0            1         0       3   \n",
            "1            2         1       1   \n",
            "2            3         1       3   \n",
            "3            4         1       1   \n",
            "4            5         0       3   \n",
            "\n",
            "                                                Name  Sex   Age  SibSp  Parch  \\\n",
            "0                            Braund, Mr. Owen Harris    1  22.0      1      0   \n",
            "1  Cumings, Mrs. John Bradley (Florence Briggs Th...    0  38.0      1      0   \n",
            "2                             Heikkinen, Miss. Laina    0  26.0      0      0   \n",
            "3       Futrelle, Mrs. Jacques Heath (Lily May Peel)    0  35.0      1      0   \n",
            "4                           Allen, Mr. William Henry    1  35.0      0      0   \n",
            "\n",
            "             Ticket     Fare  Embarked  FamilySize  Title  \n",
            "0         A/5 21171   7.2500         2           2      2  \n",
            "1          PC 17599  71.2833         0           2      3  \n",
            "2  STON/O2. 3101282   7.9250         2           1      1  \n",
            "3            113803  53.1000         2           2      3  \n",
            "4            373450   8.0500         2           1      2  \n"
          ]
        }
      ]
    },
    {
      "cell_type": "code",
      "source": [
        "#logistic Regression\n",
        "from sklearn.model_selection import train_test_split\n",
        "from sklearn.linear_model import LogisticRegression\n",
        "from sklearn.metrics import accuracy_score, confusion_matrix, classification_report\n",
        "\n",
        "X = data.drop(columns=['Survived', 'Name', 'PassengerId', 'Ticket'])\n",
        "y = data['Survived']\n",
        "\n",
        "X_train, X_test, y_train, y_test = train_test_split(X, y, test_size=0.2, random_state=42)\n",
        "logreg = LogisticRegression(max_iter=1000)\n",
        "logreg.fit(X_train, y_train)\n",
        "y_pred_logreg = logreg.predict(X_test)\n",
        "\n",
        "# Accuracy score\n",
        "accuracy = accuracy_score(y_test, y_pred)\n",
        "print(f'Accuracy: {accuracy:.4f}')\n",
        "\n",
        "# Confusion matrix\n",
        "conf_matrix = confusion_matrix(y_test, y_pred)\n",
        "print('Confusion Matrix:')\n",
        "print(conf_matrix)\n",
        "\n",
        "# Classification report\n",
        "class_report = classification_report(y_test, y_pred)\n",
        "print('Classification Report:')\n",
        "print(class_report)\n"
      ],
      "metadata": {
        "colab": {
          "base_uri": "https://localhost:8080/"
        },
        "id": "Yxeo00UfeiDi",
        "outputId": "16109201-23a0-4f87-d5e2-71787ccc9477"
      },
      "execution_count": null,
      "outputs": [
        {
          "output_type": "stream",
          "name": "stdout",
          "text": [
            "Accuracy: 0.8101\n",
            "Confusion Matrix:\n",
            "[[90 15]\n",
            " [19 55]]\n",
            "Classification Report:\n",
            "              precision    recall  f1-score   support\n",
            "\n",
            "           0       0.83      0.86      0.84       105\n",
            "           1       0.79      0.74      0.76        74\n",
            "\n",
            "    accuracy                           0.81       179\n",
            "   macro avg       0.81      0.80      0.80       179\n",
            "weighted avg       0.81      0.81      0.81       179\n",
            "\n"
          ]
        }
      ]
    },
    {
      "cell_type": "code",
      "source": [
        "from sklearn.model_selection import cross_val_score, StratifiedKFold"
      ],
      "metadata": {
        "id": "Ip6hH9SRuvDD"
      },
      "execution_count": null,
      "outputs": []
    },
    {
      "cell_type": "code",
      "source": [
        "#K-Fold\n",
        "kfold = StratifiedKFold(n_splits=5, shuffle=True, random_state=42)\n",
        "\n",
        "#cross-validation\n",
        "cv_results = cross_val_score(logreg, X, y, cv=kfold, scoring='accuracy')\n",
        "\n",
        "print(f'Cross-Validation Accuracy Scores: {cv_results}')"
      ],
      "metadata": {
        "colab": {
          "base_uri": "https://localhost:8080/"
        },
        "id": "FboqKuSIuzmM",
        "outputId": "cc4d1e0d-cd38-4039-bac6-cb081f211bec"
      },
      "execution_count": null,
      "outputs": [
        {
          "output_type": "stream",
          "name": "stdout",
          "text": [
            "Cross-Validation Accuracy Scores: [0.7877095  0.79213483 0.79213483 0.78651685 0.80898876]\n"
          ]
        }
      ]
    },
    {
      "cell_type": "markdown",
      "source": [
        "Random forest"
      ],
      "metadata": {
        "id": "WhbGC2dc8wWT"
      }
    },
    {
      "cell_type": "code",
      "source": [
        "from sklearn.ensemble import RandomForestClassifier\n",
        "from sklearn.model_selection import train_test_split\n",
        "from sklearn.metrics import accuracy_score, confusion_matrix, classification_report\n",
        "\n",
        "X = data.drop(columns=['Survived', 'Name', 'PassengerId', 'Ticket'])\n",
        "y = data['Survived']\n",
        "\n",
        "X_train, X_test, y_train, y_test = train_test_split(X, y, test_size=0.2, random_state=42)\n",
        "\n",
        "# Random Forest model\n",
        "rf_model = RandomForestClassifier(n_estimators=100, random_state=42)\n",
        "rf_model.fit(X_train, y_train)\n",
        "y_pred = rf_model.predict(X_test)\n",
        "\n",
        "# Accuracy score\n",
        "accuracy = accuracy_score(y_test, y_pred)\n",
        "print(f'Accuracy: {accuracy:.4f}')\n",
        "\n",
        "# Confusion matrix\n",
        "conf_matrix = confusion_matrix(y_test, y_pred)\n",
        "print('Confusion Matrix:')\n",
        "print(conf_matrix)\n",
        "\n",
        "# Classification report\n",
        "class_report = classification_report(y_test, y_pred)\n",
        "print('Classification Report:')\n",
        "print(class_report)"
      ],
      "metadata": {
        "colab": {
          "base_uri": "https://localhost:8080/"
        },
        "id": "P4wdhouY8veH",
        "outputId": "ff513d0b-120f-4e68-96bc-24e4fc2853c9"
      },
      "execution_count": null,
      "outputs": [
        {
          "output_type": "stream",
          "name": "stdout",
          "text": [
            "Accuracy: 0.8380\n",
            "Confusion Matrix:\n",
            "[[91 14]\n",
            " [15 59]]\n",
            "Classification Report:\n",
            "              precision    recall  f1-score   support\n",
            "\n",
            "           0       0.86      0.87      0.86       105\n",
            "           1       0.81      0.80      0.80        74\n",
            "\n",
            "    accuracy                           0.84       179\n",
            "   macro avg       0.83      0.83      0.83       179\n",
            "weighted avg       0.84      0.84      0.84       179\n",
            "\n"
          ]
        }
      ]
    },
    {
      "cell_type": "markdown",
      "source": [
        "Hyper parameter tuning"
      ],
      "metadata": {
        "id": "_59Mk1LW-GSl"
      }
    },
    {
      "cell_type": "code",
      "source": [
        "from sklearn.ensemble import RandomForestClassifier\n",
        "from sklearn.model_selection import RandomizedSearchCV\n",
        "\n",
        "X = data.drop(columns=['Survived', 'Name', 'PassengerId', 'Ticket'])\n",
        "y = data['Survived']\n",
        "\n",
        "rf_model = RandomForestClassifier(random_state=42)\n",
        "\n",
        "#Hyperparameter grid\n",
        "param_grid = {\n",
        "    'n_estimators': [100, 200],             # Number of trees\n",
        "    'max_depth': [10, 20, None],            # Depth of trees\n",
        "    'min_samples_split': [2, 5],            # Minimum samples required to split\n",
        "    'min_samples_leaf': [1, 2],             # Minimum samples required at each leaf node\n",
        "    'bootstrap': [True, False]              # Whether bootstrap samples are used when building trees\n",
        "}\n",
        "\n",
        "rf_random = RandomizedSearchCV(estimator=rf_model, param_distributions=param_grid,\n",
        "                               n_iter=10, cv=3, scoring='accuracy', random_state=42, n_jobs=-1)\n",
        "\n",
        "rf_random.fit(X, y)\n",
        "\n",
        "print(f'Best Parameters: {rf_random.best_params_}')\n",
        "print(f'Best Accuracy: {rf_random.best_score_:.4f}')\n"
      ],
      "metadata": {
        "colab": {
          "base_uri": "https://localhost:8080/"
        },
        "id": "fl1c4hW_-AAA",
        "outputId": "0847442b-7074-4554-8f4c-4d44d37d1bee"
      },
      "execution_count": null,
      "outputs": [
        {
          "output_type": "stream",
          "name": "stdout",
          "text": [
            "Best Parameters: {'n_estimators': 100, 'min_samples_split': 2, 'min_samples_leaf': 2, 'max_depth': 10, 'bootstrap': True}\n",
            "Best Accuracy: 0.8316\n"
          ]
        }
      ]
    },
    {
      "cell_type": "code",
      "source": [
        "from sklearn.tree import DecisionTreeClassifier\n",
        "from sklearn.model_selection import train_test_split, GridSearchCV\n",
        "from sklearn.metrics import accuracy_score, confusion_matrix, classification_report\n",
        "\n",
        "X = data.drop(columns=['Survived', 'Name', 'PassengerId', 'Ticket'])\n",
        "y = data['Survived']\n",
        "\n",
        "X_train, X_test, y_train, y_test = train_test_split(X, y, test_size=0.2, random_state=42)\n",
        "\n",
        "# Hyperparameter Tuning\n",
        "\n",
        "# Step 3: Define the parameter grid\n",
        "param_grid = {\n",
        "    'max_depth': [None, 5, 10, 15, 20],                # None means nodes are expanded until all leaves are pure\n",
        "    'min_samples_split': [2, 5, 10],                   # Minimum samples to split an internal node\n",
        "    'min_samples_leaf': [1, 2, 4, 6]                   # Minimum samples at a leaf node\n",
        "}\n",
        "\n",
        "dt_model = DecisionTreeClassifier(random_state=42)\n",
        "\n",
        "grid_search = GridSearchCV(estimator=dt_model, param_grid=param_grid,\n",
        "                           scoring='accuracy', cv=5, n_jobs=-1, verbose=1)\n",
        "\n",
        "grid_search.fit(X_train, y_train)\n",
        "\n",
        "print(f'Best Parameters: {grid_search.best_params_}')\n",
        "print(f'Best Accuracy: {grid_search.best_score_:.4f}')\n",
        "\n",
        "best_dt_model = grid_search.best_estimator_\n",
        "y_pred_dt = best_dt_model.predict(X_test)\n",
        "\n",
        "# Accuracy score\n",
        "dt_accuracy = accuracy_score(y_test, y_pred_dt)\n",
        "print(f'Accuracy on Test Set: {dt_accuracy:.4f}')\n",
        "\n",
        "# Confusion matrix\n",
        "dt_conf_matrix = confusion_matrix(y_test, y_pred_dt)\n",
        "print('Confusion Matrix:')\n",
        "print(dt_conf_matrix)\n",
        "\n",
        "# Classification report\n",
        "dt_class_report = classification_report(y_test, y_pred_dt)\n",
        "print('Classification Report:')\n",
        "print(dt_class_report)\n"
      ],
      "metadata": {
        "colab": {
          "base_uri": "https://localhost:8080/"
        },
        "id": "hMDUNPOjLXoj",
        "outputId": "3568dcde-8130-41aa-aa6d-a03692db60a9"
      },
      "execution_count": null,
      "outputs": [
        {
          "output_type": "stream",
          "name": "stdout",
          "text": [
            "Fitting 5 folds for each of 60 candidates, totalling 300 fits\n",
            "Best Parameters: {'max_depth': 5, 'min_samples_leaf': 6, 'min_samples_split': 2}\n",
            "Best Accuracy: 0.8188\n",
            "Accuracy on Test Set: 0.8045\n",
            "Confusion Matrix:\n",
            "[[94 11]\n",
            " [24 50]]\n",
            "Classification Report:\n",
            "              precision    recall  f1-score   support\n",
            "\n",
            "           0       0.80      0.90      0.84       105\n",
            "           1       0.82      0.68      0.74        74\n",
            "\n",
            "    accuracy                           0.80       179\n",
            "   macro avg       0.81      0.79      0.79       179\n",
            "weighted avg       0.81      0.80      0.80       179\n",
            "\n"
          ]
        }
      ]
    }
  ]
}